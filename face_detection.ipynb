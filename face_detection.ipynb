{
 "cells": [
  {
   "cell_type": "code",
   "execution_count": null,
   "id": "8f5d1a2d-8f9c-4d1f-94cc-3ca20e9df791",
   "metadata": {},
   "outputs": [],
   "source": [
    "import cv2\n",
    "import matplotlib.pyplot as plt\n",
    "\n",
    "# تحميل نموذج Haar Cascade من الملف المحلي (تأكدي أنه في نفس المجلد)\n",
    "#CascadeClassifier يحمل ملف تحديد الوجوه (Haar cascade) الموجود مع OpenCV. هذا الملف يحتوي \"قواعد\" مُدَرَّبة لاكتشاف الوجوه (مربعات حول الوجه).\n",
    "face_cascade = cv2.CascadeClassifier(\"haarcascade_frontalface_default.xml\")\n",
    "\n",
    "# قراءة الصورة من مجلد images\n",
    "img = cv2.imread(\"IMAGE_1.jpg\")\n",
    "\n",
    "# التأكد من أن الصورة انقرأت\n",
    "if img is None:\n",
    "    raise FileNotFoundError(\"لم أجد الصورة، تأكدي من المسار images/my_photo.jpg\")\n",
    "\n",
    "# تحويل الصورة إلى رمادية (مطلوب للكشف)\n",
    "gray = cv2.cvtColor(img, cv2.COLOR_BGR2GRAY)\n",
    "\n",
    "# كشف الوجوه\n",
    "#scaleFactor=1.1: آلية البحث على مقاييس متعددة (كل خطوة يقل حجم الصورة بنسبة 10%). قيمة أصغر تكشف وجوهًا أصغر لكن تحتاج وقتًا أكثر. \n",
    "#minNeighbors=5: عدد الجيران المطلوب لاعتبار مربع كوجه؛ قيمة أعلى تقلل الإيجابيات الكاذبة.\n",
    "#minSize=(30,30): أقل حجم لاعتبارها وجه (بكسلات).\n",
    "faces = face_cascade.detectMultiScale(gray, scaleFactor=1.1, minNeighbors=15, minSize=(30,30))\n",
    "\n",
    "print(\"عدد الوجوه المكتشفة:\", len(faces))\n",
    "\n",
    "# تحويل الصورة من BGR (OpenCV) إلى RGB (matplotlib) للعرض الصحيح\n",
    "img_rgb = cv2.cvtColor(img, cv2.COLOR_BGR2RGB)\n",
    "\n",
    "# رسم المربعات حول الوجوه\n",
    "for (x, y, w, h) in faces:\n",
    "    cv2.rectangle(img_rgb, (x, y), (x + w, y + h), (0, 255, 0), 2)\n",
    "\n",
    "# عرض الصورة داخل Jupyter\n",
    "plt.figure(figsize=(8,6))\n",
    "plt.imshow(img_rgb)\n",
    "plt.axis(\"off\")\n",
    "plt.title(f\"Detected faces: {len(faces)}\")\n",
    "plt.show()\n",
    "\n",
    "\n"
   ]
  }
 ],
 "metadata": {
  "kernelspec": {
   "display_name": "Python (Doaa-env)",
   "language": "python",
   "name": "doaa-env"
  },
  "language_info": {
   "codemirror_mode": {
    "name": "ipython",
    "version": 3
   },
   "file_extension": ".py",
   "mimetype": "text/x-python",
   "name": "python",
   "nbconvert_exporter": "python",
   "pygments_lexer": "ipython3",
   "version": "3.13.5"
  }
 },
 "nbformat": 4,
 "nbformat_minor": 5
}
